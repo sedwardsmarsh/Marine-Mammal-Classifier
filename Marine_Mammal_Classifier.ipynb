{
  "nbformat": 4,
  "nbformat_minor": 0,
  "metadata": {
    "colab": {
      "name": "Marine Mammal Classifier.ipynb",
      "provenance": [],
      "collapsed_sections": [],
      "authorship_tag": "ABX9TyNwE/CJ052Z825ppvnHeCuY",
      "include_colab_link": true
    },
    "kernelspec": {
      "name": "python3",
      "display_name": "Python 3"
    },
    "accelerator": "GPU"
  },
  "cells": [
    {
      "cell_type": "markdown",
      "metadata": {
        "id": "view-in-github",
        "colab_type": "text"
      },
      "source": [
        "<a href=\"https://colab.research.google.com/github/sedwardsmarsh/Marine-Mammal-Classifier/blob/master/Marine_Mammal_Classifier.ipynb\" target=\"_parent\"><img src=\"https://colab.research.google.com/assets/colab-badge.svg\" alt=\"Open In Colab\"/></a>"
      ]
    },
    {
      "cell_type": "markdown",
      "metadata": {
        "id": "-9pVArPXhRoy",
        "colab_type": "text"
      },
      "source": [
        "#**Marine Mammal Classifier**\n",
        "\n",
        "\n",
        "*   source for audio data: Watkins Marine Mammal Sound Database, Woods Hole Oceanographic Institution: https://whoicf2.whoi.edu/science/B/whalesounds/index.cfm\n",
        "*   thanks to Todd Hayton for the python tutorial *Scraping by Example - Iterating through Select Items With Mechanize*: http://toddhayton.com/2015/01/09/scraping-by-example-ntu-edu/\n",
        "*   this answer from stack exchange was used as well, thank you: https://stackoverflow.com/questions/5974595/download-all-the-linksrelated-documents-on-a-webpage-using-python\n",
        "\n",
        "\n",
        "\n",
        "\n"
      ]
    },
    {
      "cell_type": "markdown",
      "metadata": {
        "id": "imRrk3Uan6Ew",
        "colab_type": "text"
      },
      "source": [
        "Before running anything, you need to tell Colab that you are interested in using a GPU. You can do this by clicking on the ‘Runtime’ tab and selecting ‘Change runtime type’. A pop-up window will open up with a drop-down menu. Select ‘GPU’ from the menu and click ‘Save’.\n",
        "\n",
        "# ***make these images a lot smaller***\n",
        "\n",
        "![Click the 'Runtime' tab above and select 'Change runtime type'](https://course.fast.ai/images/colab/03.png)\n",
        "\n",
        "![A pop-up window will open up with a drop-down menu. Select ‘GPU’ from the menu and click ‘Save’.](https://course.fast.ai/images/colab/04.png)"
      ]
    },
    {
      "cell_type": "markdown",
      "metadata": {
        "id": "YaocxwumhnAn",
        "colab_type": "text"
      },
      "source": [
        "# Setup the environment"
      ]
    },
    {
      "cell_type": "code",
      "metadata": {
        "id": "65C_9YIGdmJZ",
        "colab_type": "code",
        "outputId": "e03feaab-80c7-4888-8554-402646cdf406",
        "colab": {
          "base_uri": "https://localhost:8080/",
          "height": 122
        }
      },
      "source": [
        "# connect to google drive\n",
        "from google.colab import drive\n",
        "drive.mount('/content/gdrive', force_remount=True)\n",
        "root_dir = \"/content/gdrive/My\\ Drive/\"\n",
        "data_dir = root_dir + \"Colab\\ Notebooks/watkins_data/\""
      ],
      "execution_count": 0,
      "outputs": [
        {
          "output_type": "stream",
          "text": [
            "Go to this URL in a browser: https://accounts.google.com/o/oauth2/auth?client_id=947318989803-6bn6qk8qdgf4n4g3pfee6491hc0brc4i.apps.googleusercontent.com&redirect_uri=urn%3aietf%3awg%3aoauth%3a2.0%3aoob&response_type=code&scope=email%20https%3a%2f%2fwww.googleapis.com%2fauth%2fdocs.test%20https%3a%2f%2fwww.googleapis.com%2fauth%2fdrive%20https%3a%2f%2fwww.googleapis.com%2fauth%2fdrive.photos.readonly%20https%3a%2f%2fwww.googleapis.com%2fauth%2fpeopleapi.readonly\n",
            "\n",
            "Enter your authorization code:\n",
            "··········\n",
            "Mounted at /content/gdrive\n"
          ],
          "name": "stdout"
        }
      ]
    },
    {
      "cell_type": "code",
      "metadata": {
        "id": "m13I7lI6maj-",
        "colab_type": "code",
        "outputId": "2ece0f1d-aba8-4cc3-9865-8b1e89355199",
        "colab": {
          "base_uri": "https://localhost:8080/",
          "height": 34
        }
      },
      "source": [
        "# create google drive directory to hold watkins marine mammal data\n",
        "!mkdir {data_dir}"
      ],
      "execution_count": 0,
      "outputs": [
        {
          "output_type": "stream",
          "text": [
            "mkdir: cannot create directory ‘/content/gdrive/My Drive/Colab Notebooks/watkins_data/’: File exists\n"
          ],
          "name": "stdout"
        }
      ]
    },
    {
      "cell_type": "code",
      "metadata": {
        "id": "E51ZlZC0hg6M",
        "colab_type": "code",
        "outputId": "0fecb242-ff3b-4fb8-995e-90fa05c0705a",
        "colab": {
          "base_uri": "https://localhost:8080/",
          "height": 51
        }
      },
      "source": [
        "# fetch the latest fast.ai version \n",
        "!curl -s https://course.fast.ai/setup/colab | bash"
      ],
      "execution_count": 0,
      "outputs": [
        {
          "output_type": "stream",
          "text": [
            "Updating fastai...\n",
            "Done.\n"
          ],
          "name": "stdout"
        }
      ]
    },
    {
      "cell_type": "code",
      "metadata": {
        "id": "1lxV6gqGhsq2",
        "colab_type": "code",
        "outputId": "7d5cb7f7-6fad-438a-9356-2a786810f111",
        "colab": {
          "base_uri": "https://localhost:8080/",
          "height": 1000
        }
      },
      "source": [
        "# install the latest SoX version\n",
        "!apt-get install -qq sox"
      ],
      "execution_count": 0,
      "outputs": [
        {
          "output_type": "stream",
          "text": [
            "Reading package lists...\n",
            "Building dependency tree...\n",
            "Reading state information...\n",
            "The following additional packages will be installed:\n",
            "  libmagic-mgc libmagic1 libopencore-amrnb0 libopencore-amrwb0 libsox-fmt-alsa\n",
            "  libsox-fmt-base libsox3\n",
            "Suggested packages:\n",
            "  file libsox-fmt-all\n",
            "The following NEW packages will be installed:\n",
            "  libmagic-mgc libmagic1 libopencore-amrnb0 libopencore-amrwb0 libsox-fmt-alsa\n",
            "  libsox-fmt-base libsox3 sox\n",
            "0 upgraded, 8 newly installed, 0 to remove and 25 not upgraded.\n",
            "Need to get 760 kB of archives.\n",
            "After this operation, 6,715 kB of additional disk space will be used.\n",
            "Get:1 http://archive.ubuntu.com/ubuntu bionic/universe amd64 libopencore-amrnb0 amd64 0.1.3-2.1 [92.0 kB]\n",
            "Get:2 http://archive.ubuntu.com/ubuntu bionic/universe amd64 libopencore-amrwb0 amd64 0.1.3-2.1 [45.8 kB]\n",
            "Get:3 http://archive.ubuntu.com/ubuntu bionic-updates/main amd64 libmagic-mgc amd64 1:5.32-2ubuntu0.3 [184 kB]\n",
            "Get:4 http://archive.ubuntu.com/ubuntu bionic-updates/main amd64 libmagic1 amd64 1:5.32-2ubuntu0.3 [68.7 kB]\n",
            "Get:5 http://archive.ubuntu.com/ubuntu bionic-updates/universe amd64 libsox3 amd64 14.4.2-3ubuntu0.18.04.1 [226 kB]\n",
            "Get:6 http://archive.ubuntu.com/ubuntu bionic-updates/universe amd64 libsox-fmt-alsa amd64 14.4.2-3ubuntu0.18.04.1 [10.6 kB]\n",
            "Get:7 http://archive.ubuntu.com/ubuntu bionic-updates/universe amd64 libsox-fmt-base amd64 14.4.2-3ubuntu0.18.04.1 [32.1 kB]\n",
            "Get:8 http://archive.ubuntu.com/ubuntu bionic-updates/universe amd64 sox amd64 14.4.2-3ubuntu0.18.04.1 [101 kB]\n",
            "Fetched 760 kB in 0s (4,379 kB/s)\n",
            "Selecting previously unselected package libopencore-amrnb0:amd64.\n",
            "(Reading database ... 144542 files and directories currently installed.)\n",
            "Preparing to unpack .../0-libopencore-amrnb0_0.1.3-2.1_amd64.deb ...\n",
            "Unpacking libopencore-amrnb0:amd64 (0.1.3-2.1) ...\n",
            "Selecting previously unselected package libopencore-amrwb0:amd64.\n",
            "Preparing to unpack .../1-libopencore-amrwb0_0.1.3-2.1_amd64.deb ...\n",
            "Unpacking libopencore-amrwb0:amd64 (0.1.3-2.1) ...\n",
            "Selecting previously unselected package libmagic-mgc.\n",
            "Preparing to unpack .../2-libmagic-mgc_1%3a5.32-2ubuntu0.3_amd64.deb ...\n",
            "Unpacking libmagic-mgc (1:5.32-2ubuntu0.3) ...\n",
            "Selecting previously unselected package libmagic1:amd64.\n",
            "Preparing to unpack .../3-libmagic1_1%3a5.32-2ubuntu0.3_amd64.deb ...\n",
            "Unpacking libmagic1:amd64 (1:5.32-2ubuntu0.3) ...\n",
            "Selecting previously unselected package libsox3:amd64.\n",
            "Preparing to unpack .../4-libsox3_14.4.2-3ubuntu0.18.04.1_amd64.deb ...\n",
            "Unpacking libsox3:amd64 (14.4.2-3ubuntu0.18.04.1) ...\n",
            "Selecting previously unselected package libsox-fmt-alsa:amd64.\n",
            "Preparing to unpack .../5-libsox-fmt-alsa_14.4.2-3ubuntu0.18.04.1_amd64.deb ...\n",
            "Unpacking libsox-fmt-alsa:amd64 (14.4.2-3ubuntu0.18.04.1) ...\n",
            "Selecting previously unselected package libsox-fmt-base:amd64.\n",
            "Preparing to unpack .../6-libsox-fmt-base_14.4.2-3ubuntu0.18.04.1_amd64.deb ...\n",
            "Unpacking libsox-fmt-base:amd64 (14.4.2-3ubuntu0.18.04.1) ...\n",
            "Selecting previously unselected package sox.\n",
            "Preparing to unpack .../7-sox_14.4.2-3ubuntu0.18.04.1_amd64.deb ...\n",
            "Unpacking sox (14.4.2-3ubuntu0.18.04.1) ...\n",
            "Setting up libmagic-mgc (1:5.32-2ubuntu0.3) ...\n",
            "Setting up libmagic1:amd64 (1:5.32-2ubuntu0.3) ...\n",
            "Setting up libopencore-amrnb0:amd64 (0.1.3-2.1) ...\n",
            "Setting up libopencore-amrwb0:amd64 (0.1.3-2.1) ...\n",
            "Setting up libsox3:amd64 (14.4.2-3ubuntu0.18.04.1) ...\n",
            "Setting up libsox-fmt-base:amd64 (14.4.2-3ubuntu0.18.04.1) ...\n",
            "Setting up libsox-fmt-alsa:amd64 (14.4.2-3ubuntu0.18.04.1) ...\n",
            "Setting up sox (14.4.2-3ubuntu0.18.04.1) ...\n",
            "Processing triggers for libc-bin (2.27-3ubuntu1) ...\n",
            "/sbin/ldconfig.real: /usr/local/lib/python3.6/dist-packages/ideep4py/lib/libmkldnn.so.0 is not a symbolic link\n",
            "\n",
            "Processing triggers for man-db (2.8.3-2ubuntu0.1) ...\n",
            "Processing triggers for mime-support (3.60ubuntu1) ...\n"
          ],
          "name": "stdout"
        }
      ]
    },
    {
      "cell_type": "code",
      "metadata": {
        "id": "RqpgbffKd87w",
        "colab_type": "code",
        "outputId": "2a15c21a-b615-4f2a-c922-ceb02652321a",
        "colab": {
          "base_uri": "https://localhost:8080/",
          "height": 153
        }
      },
      "source": [
        "# install the latest mechanize version\n",
        "!pip install mechanize"
      ],
      "execution_count": 1,
      "outputs": [
        {
          "output_type": "stream",
          "text": [
            "Collecting mechanize\n",
            "\u001b[?25l  Downloading https://files.pythonhosted.org/packages/13/08/77368b47ba2f9e0c03f33902ed2c8e0fa83d15d81dcf7fe102b40778d810/mechanize-0.4.5-py2.py3-none-any.whl (109kB)\n",
            "\r\u001b[K     |███                             | 10kB 30.0MB/s eta 0:00:01\r\u001b[K     |██████                          | 20kB 3.0MB/s eta 0:00:01\r\u001b[K     |█████████                       | 30kB 4.2MB/s eta 0:00:01\r\u001b[K     |████████████                    | 40kB 2.9MB/s eta 0:00:01\r\u001b[K     |███████████████                 | 51kB 3.3MB/s eta 0:00:01\r\u001b[K     |██████████████████              | 61kB 3.9MB/s eta 0:00:01\r\u001b[K     |█████████████████████           | 71kB 4.2MB/s eta 0:00:01\r\u001b[K     |████████████████████████        | 81kB 4.6MB/s eta 0:00:01\r\u001b[K     |███████████████████████████     | 92kB 5.1MB/s eta 0:00:01\r\u001b[K     |██████████████████████████████  | 102kB 4.9MB/s eta 0:00:01\r\u001b[K     |████████████████████████████████| 112kB 4.9MB/s \n",
            "\u001b[?25hRequirement already satisfied: html5lib>=0.999999999 in /usr/local/lib/python3.6/dist-packages (from mechanize) (1.0.1)\n",
            "Requirement already satisfied: webencodings in /usr/local/lib/python3.6/dist-packages (from html5lib>=0.999999999->mechanize) (0.5.1)\n",
            "Requirement already satisfied: six>=1.9 in /usr/local/lib/python3.6/dist-packages (from html5lib>=0.999999999->mechanize) (1.12.0)\n",
            "Installing collected packages: mechanize\n",
            "Successfully installed mechanize-0.4.5\n"
          ],
          "name": "stdout"
        }
      ]
    },
    {
      "cell_type": "code",
      "metadata": {
        "id": "05M1SUqUkGJ4",
        "colab_type": "code",
        "outputId": "af267600-0c4a-4ad6-baf2-4e5ea2739b08",
        "colab": {
          "base_uri": "https://localhost:8080/",
          "height": 68
        }
      },
      "source": [
        "# change working directory to watkins_data folder to save data\n",
        "%cd /content/gdrive/'My Drive'/'Colab Notebooks'/watkins_data\n",
        "%pwd"
      ],
      "execution_count": 4,
      "outputs": [
        {
          "output_type": "stream",
          "text": [
            "[Errno 2] No such file or directory: '/content/gdrive/My Drive/Colab Notebooks/watkins_data'\n",
            "/content\n"
          ],
          "name": "stdout"
        },
        {
          "output_type": "execute_result",
          "data": {
            "text/plain": [
              "'/content'"
            ]
          },
          "metadata": {
            "tags": []
          },
          "execution_count": 4
        }
      ]
    },
    {
      "cell_type": "code",
      "metadata": {
        "id": "VxMyJdTumsIN",
        "colab_type": "code",
        "outputId": "9704825a-d5d6-48ef-d00f-725f46dcaacf",
        "colab": {
          "base_uri": "https://localhost:8080/",
          "height": 350
        }
      },
      "source": [
        "#!/usr/bin/env python\n",
        "\n",
        "# import sys\n",
        "import signal\n",
        "import mechanize \n",
        "import wave\n",
        "from time import sleep\n",
        "\n",
        "URL = 'https://whoicf2.whoi.edu/science/B/whalesounds/index.cfm'\n",
        "DELAY = 5\n",
        "\n",
        "def sigint(signal, frame):\n",
        "  sys.stderr.write('Exiting...\\n')\n",
        "  sys.exit(0)    \n",
        "\n",
        "class WatkinsScraper:\n",
        "    def __init__(self, url=URL, delay=DELAY):\n",
        "        # initilize browser, url, delay and items array\n",
        "        self.br = mechanize.Browser()\n",
        "        self.url = url\n",
        "        self.delay = delay\n",
        "        self.items = []\n",
        "        self.dl_links = []\n",
        "\n",
        "\n",
        "    def scrape(self):\n",
        "        '''\n",
        "        Get the list of items in the first dropdown menu, \"Common name\", \n",
        "        submit the form for each item. \n",
        "        Using the response, save the files to this script's \n",
        "        directory.\n",
        "        '''\n",
        "        items = self.get_items()\n",
        "\n",
        "        for item in items:\n",
        "            # Skip invalid/blank item selections\n",
        "            if \"https\" in str(item):\n",
        "                # print(item)\n",
        "                response = self.follow_link(str(item))\n",
        "                self.save_item_results(item, response)\n",
        "\n",
        "\n",
        "    # working\n",
        "    def get_items(self):\n",
        "        '''\n",
        "        Get the list of items in the first dropdown of the form\n",
        "        '''\n",
        "        self.br.open(self.url)\n",
        "        self.br.select_form('jump1')\n",
        "\n",
        "        # get items from submit tag \n",
        "        items = self.br.form.find_control('getSpeciesCommon').get_items()\n",
        "        # print(items[1])\n",
        "        return items\n",
        "\n",
        "\n",
        "    # def submit_form(self, item):\n",
        "    #     '''\n",
        "    #     Submit form using selection item.name and download the audio files\n",
        "    #     to data_dir\n",
        "    #     '''\n",
        "    #     max_tries = 3\n",
        "    #     num_tries = 0\n",
        "\n",
        "    #     while num_tries < max_tries:\n",
        "    #         # loop through each item name from submit tag.\n",
        "    #         try:\n",
        "    #             # this isn't submitting the correct form\n",
        "    #             self.br.open(self.url)\n",
        "    #             self.br.select_form('jump1')\n",
        "    #             self.br.form['getSpeciesCommon'] = [ item.name ]\n",
        "    #             self.br.submit()\n",
        "    #             break\n",
        "    #         # unless encountering an error.\n",
        "    #         except (mechanize.HTTPError, mechanize.URLError) as e:\n",
        "    #             if isinstance(e,mechanize.HTTPError):\n",
        "    #                 print(e.code)\n",
        "    #             else:\n",
        "    #                 print(e.reason.args)\n",
        "\n",
        "    #         num_tries += 1\n",
        "    #         time.sleep(num_tries * self.delay)\n",
        "\n",
        "    #     if num_tries == max_tries:\n",
        "    #         raise\n",
        "\n",
        "    #     # return page response from server.\n",
        "    #     return self.br.response().read()\n",
        "\n",
        "\n",
        "    # def get_links(self):\n",
        "    #     '''\n",
        "    #     Locates the links on a given webpage\n",
        "    #     '''\n",
        "    #     # filetypes holds the extensions of the files we want to download.\n",
        "    #     filetypes=[\".wav\"]\n",
        "    #     # iterate through links inside browser on the page.\n",
        "    #     for link in self.br.links():\n",
        "    #         # check if this link has the file extension we want.\n",
        "    #         for ft in filetypes:\n",
        "    #             if ft in str(link): \n",
        "    #                 self.dl_links.append(link)\n",
        "\n",
        "\n",
        "    # def download_link(self, link, label):\n",
        "    #     # with open(\"%s.wav\" % label, 'w') as f:\n",
        "    #     #     f.write(results)\n",
        "    #     #     f.close()\n",
        "\n",
        "    #     # possibly replace with wave.open\n",
        "    #     f = open(str(link),\"w\")\n",
        "    #     # possibly replace with br.follow_link(link)\n",
        "    #     br.click_link(link)\n",
        "    #     f.write(br.response().read())\n",
        "    #     print (\"%s has been downloaded\" % str(link))\n",
        "\n",
        "        \n",
        "    # def save_item_results(self, item):\n",
        "    #     label = ' '.join([label.text for label in item.get_labels()])\n",
        "    #     label = '-'.join(label.split())\n",
        "        \n",
        "    #     for link in self.dl_links:\n",
        "    #         # throttle so you dont hammer the site\n",
        "    #         sleep(self.delay) \n",
        "    #         self.download_link(link, label)\n",
        "    #         print(\"all %s files have been downloaded\" % label)\n",
        "    #         # clear stored links to prep for next iteration\n",
        "    #         self.dl_links = []\n",
        "\n",
        "\n",
        "if __name__ == '__main__':\n",
        "    signal.signal(signal.SIGINT, sigint)\n",
        "    scraper = WatkinsScraper()\n",
        "    scraper.scrape()\n",
        "    # some_items = scraper.get_items()\n",
        "    # token = scraper.save_item_results(item=some_items[1])\n",
        "    # for x in zip(some_items): \n",
        "    #     print(x)"
      ],
      "execution_count": 7,
      "outputs": [
        {
          "output_type": "error",
          "ename": "AttributeError",
          "evalue": "ignored",
          "traceback": [
            "\u001b[0;31m---------------------------------------------------------------------------\u001b[0m",
            "\u001b[0;31mAttributeError\u001b[0m                            Traceback (most recent call last)",
            "\u001b[0;32m<ipython-input-7-14eb1213d576>\u001b[0m in \u001b[0;36m<module>\u001b[0;34m()\u001b[0m\n\u001b[1;32m    129\u001b[0m     \u001b[0msignal\u001b[0m\u001b[0;34m.\u001b[0m\u001b[0msignal\u001b[0m\u001b[0;34m(\u001b[0m\u001b[0msignal\u001b[0m\u001b[0;34m.\u001b[0m\u001b[0mSIGINT\u001b[0m\u001b[0;34m,\u001b[0m \u001b[0msigint\u001b[0m\u001b[0;34m)\u001b[0m\u001b[0;34m\u001b[0m\u001b[0;34m\u001b[0m\u001b[0m\n\u001b[1;32m    130\u001b[0m     \u001b[0mscraper\u001b[0m \u001b[0;34m=\u001b[0m \u001b[0mWatkinsScraper\u001b[0m\u001b[0;34m(\u001b[0m\u001b[0;34m)\u001b[0m\u001b[0;34m\u001b[0m\u001b[0;34m\u001b[0m\u001b[0m\n\u001b[0;32m--> 131\u001b[0;31m     \u001b[0mscraper\u001b[0m\u001b[0;34m.\u001b[0m\u001b[0mscrape\u001b[0m\u001b[0;34m(\u001b[0m\u001b[0;34m)\u001b[0m\u001b[0;34m\u001b[0m\u001b[0;34m\u001b[0m\u001b[0m\n\u001b[0m\u001b[1;32m    132\u001b[0m     \u001b[0;31m# some_items = scraper.get_items()\u001b[0m\u001b[0;34m\u001b[0m\u001b[0;34m\u001b[0m\u001b[0;34m\u001b[0m\u001b[0m\n\u001b[1;32m    133\u001b[0m     \u001b[0;31m# token = scraper.save_item_results(item=some_items[1])\u001b[0m\u001b[0;34m\u001b[0m\u001b[0;34m\u001b[0m\u001b[0;34m\u001b[0m\u001b[0m\n",
            "\u001b[0;32m<ipython-input-7-14eb1213d576>\u001b[0m in \u001b[0;36mscrape\u001b[0;34m(self)\u001b[0m\n\u001b[1;32m     34\u001b[0m             \u001b[0;32mif\u001b[0m \u001b[0;34m\"https\"\u001b[0m \u001b[0;32min\u001b[0m \u001b[0mstr\u001b[0m\u001b[0;34m(\u001b[0m\u001b[0mitem\u001b[0m\u001b[0;34m)\u001b[0m\u001b[0;34m:\u001b[0m\u001b[0;34m\u001b[0m\u001b[0;34m\u001b[0m\u001b[0m\n\u001b[1;32m     35\u001b[0m                 \u001b[0;31m# print(item)\u001b[0m\u001b[0;34m\u001b[0m\u001b[0;34m\u001b[0m\u001b[0;34m\u001b[0m\u001b[0m\n\u001b[0;32m---> 36\u001b[0;31m                 \u001b[0mself\u001b[0m\u001b[0;34m.\u001b[0m\u001b[0mfollow_link\u001b[0m\u001b[0;34m(\u001b[0m\u001b[0mstr\u001b[0m\u001b[0;34m(\u001b[0m\u001b[0mitem\u001b[0m\u001b[0;34m)\u001b[0m\u001b[0;34m)\u001b[0m\u001b[0;34m\u001b[0m\u001b[0;34m\u001b[0m\u001b[0m\n\u001b[0m\u001b[1;32m     37\u001b[0m                 \u001b[0mself\u001b[0m\u001b[0;34m.\u001b[0m\u001b[0msave_item_results\u001b[0m\u001b[0;34m(\u001b[0m\u001b[0mitem\u001b[0m\u001b[0;34m,\u001b[0m \u001b[0mresponse\u001b[0m\u001b[0;34m)\u001b[0m\u001b[0;34m\u001b[0m\u001b[0;34m\u001b[0m\u001b[0m\n\u001b[1;32m     38\u001b[0m \u001b[0;34m\u001b[0m\u001b[0m\n",
            "\u001b[0;31mAttributeError\u001b[0m: 'WatkinsScraper' object has no attribute 'follow_link'"
          ]
        }
      ]
    }
  ]
}