{
  "nbformat": 4,
  "nbformat_minor": 0,
  "metadata": {
    "colab": {
      "name": "Marine Mammal Classifier.ipynb",
      "provenance": [],
      "collapsed_sections": [
        "YaocxwumhnAn",
        "NSafdItAiugX"
      ],
      "authorship_tag": "ABX9TyOTDS66uvdIav7XF0k7N//1",
      "include_colab_link": true
    },
    "kernelspec": {
      "name": "python3",
      "display_name": "Python 3"
    },
    "accelerator": "GPU"
  },
  "cells": [
    {
      "cell_type": "markdown",
      "metadata": {
        "id": "view-in-github",
        "colab_type": "text"
      },
      "source": [
        "<a href=\"https://colab.research.google.com/github/sedwardsmarsh/Marine-Mammal-Classifier/blob/master/Marine_Mammal_Classifier.ipynb\" target=\"_parent\"><img src=\"https://colab.research.google.com/assets/colab-badge.svg\" alt=\"Open In Colab\"/></a>"
      ]
    },
    {
      "cell_type": "markdown",
      "metadata": {
        "id": "-9pVArPXhRoy",
        "colab_type": "text"
      },
      "source": [
        "#**Marine Mammal Classifier**\n",
        "\n",
        "\n",
        "*   source for audio data: Watkins Marine Mammal Sound Database, Woods Hole Oceanographic Institution: https://whoicf2.whoi.edu/science/B/whalesounds/index.cfm\n",
        "*   thanks to Todd Hayton for the python tutorial *Scraping by Example - Iterating through Select Items With Mechanize*: http://toddhayton.com/2015/01/09/scraping-by-example-ntu-edu/\n",
        "*   this answer from stack exchange was used as well, thank you: https://stackoverflow.com/questions/5974595/download-all-the-linksrelated-documents-on-a-webpage-using-python\n",
        "\n",
        "\n",
        "\n",
        "\n"
      ]
    },
    {
      "cell_type": "markdown",
      "metadata": {
        "id": "imRrk3Uan6Ew",
        "colab_type": "text"
      },
      "source": [
        "# Before running anything, you need to tell Colab that you are interested in using a GPU. \n",
        "1.   You can do this by clicking on the ‘Runtime’ tab and selecting ‘Change runtime type’. \n",
        "2.   A pop-up window will open up with a drop-down menu. Select ‘GPU’ from the menu and click ‘Save’.\n",
        "\n",
        "\n",
        "\n",
        "\n",
        "\n",
        "\n",
        "\n"
      ]
    },
    {
      "cell_type": "markdown",
      "metadata": {
        "id": "Jd7j9k2GnWE_",
        "colab_type": "text"
      },
      "source": [
        "<img src=\"https://course.fast.ai/images/colab/03.png\" alt=\"Click the 'Runtime' tab above and select 'Change runtime type'\" height=\"80%\" width=\"40%\">\n",
        "<img src=\"https://course.fast.ai/images/colab/04.png\" alt=\"A pop-up window will open up with a drop-down menu. Select ‘GPU’ from the menu and click ‘Save’.\" height=\"50%\" width=\"50%\">"
      ]
    },
    {
      "cell_type": "markdown",
      "metadata": {
        "id": "YaocxwumhnAn",
        "colab_type": "text"
      },
      "source": [
        "# Setup the environment"
      ]
    },
    {
      "cell_type": "code",
      "metadata": {
        "id": "65C_9YIGdmJZ",
        "colab_type": "code",
        "outputId": "1d714f7e-8e1f-47c3-8770-0abc77b4022e",
        "colab": {
          "base_uri": "https://localhost:8080/",
          "height": 122
        }
      },
      "source": [
        "# connect to google drive\n",
        "from google.colab import drive\n",
        "from pathlib import Path\n",
        "drive.mount('/content/gdrive', force_remount=True)\n",
        "root_dir = \"/content/gdrive/My Drive/\"\n",
        "data_dir = root_dir + \"Colab Notebooks/watkins_data/\"\n",
        "bash_path = \"/content/gdrive/My\\ Drive/Colab\\ Notebooks/watkins_data/\""
      ],
      "execution_count": 1,
      "outputs": [
        {
          "output_type": "stream",
          "text": [
            "Go to this URL in a browser: https://accounts.google.com/o/oauth2/auth?client_id=947318989803-6bn6qk8qdgf4n4g3pfee6491hc0brc4i.apps.googleusercontent.com&redirect_uri=urn%3aietf%3awg%3aoauth%3a2.0%3aoob&response_type=code&scope=email%20https%3a%2f%2fwww.googleapis.com%2fauth%2fdocs.test%20https%3a%2f%2fwww.googleapis.com%2fauth%2fdrive%20https%3a%2f%2fwww.googleapis.com%2fauth%2fdrive.photos.readonly%20https%3a%2f%2fwww.googleapis.com%2fauth%2fpeopleapi.readonly\n",
            "\n",
            "Enter your authorization code:\n",
            "··········\n",
            "Mounted at /content/gdrive\n"
          ],
          "name": "stdout"
        }
      ]
    },
    {
      "cell_type": "code",
      "metadata": {
        "colab_type": "code",
        "outputId": "08fddd0b-dd6a-4b0e-f1c7-073c64abef2a",
        "id": "jVD14_Y68SDa",
        "colab": {
          "base_uri": "https://localhost:8080/",
          "height": 34
        }
      },
      "source": [
        "# create google drive directory to hold watkins marine mammal data\n",
        "%mkdir {bash_path}"
      ],
      "execution_count": 2,
      "outputs": [
        {
          "output_type": "stream",
          "text": [
            "mkdir: cannot create directory ‘/content/gdrive/My Drive/Colab Notebooks/watkins_data/’: File exists\n"
          ],
          "name": "stdout"
        }
      ]
    },
    {
      "cell_type": "code",
      "metadata": {
        "id": "E51ZlZC0hg6M",
        "colab_type": "code",
        "outputId": "c26b3425-3973-489c-96c4-8833fb1d5a63",
        "colab": {
          "base_uri": "https://localhost:8080/",
          "height": 51
        }
      },
      "source": [
        "# fetch the latest fast.ai version \n",
        "!curl -s https://course.fast.ai/setup/colab | bash"
      ],
      "execution_count": 3,
      "outputs": [
        {
          "output_type": "stream",
          "text": [
            "Updating fastai...\n",
            "Done.\n"
          ],
          "name": "stdout"
        }
      ]
    },
    {
      "cell_type": "code",
      "metadata": {
        "id": "1lxV6gqGhsq2",
        "colab_type": "code",
        "outputId": "b4bf7815-ab4b-46bc-81b1-2b834f36c238",
        "colab": {
          "base_uri": "https://localhost:8080/",
          "height": 1000
        }
      },
      "source": [
        "# install the latest versions of SoX and ffmpeg \n",
        "!apt-get -qq install sox ffmpeg"
      ],
      "execution_count": 4,
      "outputs": [
        {
          "output_type": "stream",
          "text": [
            "Reading package lists...\n",
            "Building dependency tree...\n",
            "Reading state information...\n",
            "ffmpeg is already the newest version (7:3.4.6-0ubuntu0.18.04.1).\n",
            "The following additional packages will be installed:\n",
            "  libmagic-mgc libmagic1 libopencore-amrnb0 libopencore-amrwb0 libsox-fmt-alsa\n",
            "  libsox-fmt-base libsox3\n",
            "Suggested packages:\n",
            "  file libsox-fmt-all\n",
            "The following NEW packages will be installed:\n",
            "  libmagic-mgc libmagic1 libopencore-amrnb0 libopencore-amrwb0 libsox-fmt-alsa\n",
            "  libsox-fmt-base libsox3 sox\n",
            "0 upgraded, 8 newly installed, 0 to remove and 25 not upgraded.\n",
            "Need to get 760 kB of archives.\n",
            "After this operation, 6,715 kB of additional disk space will be used.\n",
            "Get:1 http://archive.ubuntu.com/ubuntu bionic/universe amd64 libopencore-amrnb0 amd64 0.1.3-2.1 [92.0 kB]\n",
            "Get:2 http://archive.ubuntu.com/ubuntu bionic/universe amd64 libopencore-amrwb0 amd64 0.1.3-2.1 [45.8 kB]\n",
            "Get:3 http://archive.ubuntu.com/ubuntu bionic-updates/main amd64 libmagic-mgc amd64 1:5.32-2ubuntu0.3 [184 kB]\n",
            "Get:4 http://archive.ubuntu.com/ubuntu bionic-updates/main amd64 libmagic1 amd64 1:5.32-2ubuntu0.3 [68.7 kB]\n",
            "Get:5 http://archive.ubuntu.com/ubuntu bionic-updates/universe amd64 libsox3 amd64 14.4.2-3ubuntu0.18.04.1 [226 kB]\n",
            "Get:6 http://archive.ubuntu.com/ubuntu bionic-updates/universe amd64 libsox-fmt-alsa amd64 14.4.2-3ubuntu0.18.04.1 [10.6 kB]\n",
            "Get:7 http://archive.ubuntu.com/ubuntu bionic-updates/universe amd64 libsox-fmt-base amd64 14.4.2-3ubuntu0.18.04.1 [32.1 kB]\n",
            "Get:8 http://archive.ubuntu.com/ubuntu bionic-updates/universe amd64 sox amd64 14.4.2-3ubuntu0.18.04.1 [101 kB]\n",
            "Fetched 760 kB in 3s (258 kB/s)\n",
            "Selecting previously unselected package libopencore-amrnb0:amd64.\n",
            "(Reading database ... 144542 files and directories currently installed.)\n",
            "Preparing to unpack .../0-libopencore-amrnb0_0.1.3-2.1_amd64.deb ...\n",
            "Unpacking libopencore-amrnb0:amd64 (0.1.3-2.1) ...\n",
            "Selecting previously unselected package libopencore-amrwb0:amd64.\n",
            "Preparing to unpack .../1-libopencore-amrwb0_0.1.3-2.1_amd64.deb ...\n",
            "Unpacking libopencore-amrwb0:amd64 (0.1.3-2.1) ...\n",
            "Selecting previously unselected package libmagic-mgc.\n",
            "Preparing to unpack .../2-libmagic-mgc_1%3a5.32-2ubuntu0.3_amd64.deb ...\n",
            "Unpacking libmagic-mgc (1:5.32-2ubuntu0.3) ...\n",
            "Selecting previously unselected package libmagic1:amd64.\n",
            "Preparing to unpack .../3-libmagic1_1%3a5.32-2ubuntu0.3_amd64.deb ...\n",
            "Unpacking libmagic1:amd64 (1:5.32-2ubuntu0.3) ...\n",
            "Selecting previously unselected package libsox3:amd64.\n",
            "Preparing to unpack .../4-libsox3_14.4.2-3ubuntu0.18.04.1_amd64.deb ...\n",
            "Unpacking libsox3:amd64 (14.4.2-3ubuntu0.18.04.1) ...\n",
            "Selecting previously unselected package libsox-fmt-alsa:amd64.\n",
            "Preparing to unpack .../5-libsox-fmt-alsa_14.4.2-3ubuntu0.18.04.1_amd64.deb ...\n",
            "Unpacking libsox-fmt-alsa:amd64 (14.4.2-3ubuntu0.18.04.1) ...\n",
            "Selecting previously unselected package libsox-fmt-base:amd64.\n",
            "Preparing to unpack .../6-libsox-fmt-base_14.4.2-3ubuntu0.18.04.1_amd64.deb ...\n",
            "Unpacking libsox-fmt-base:amd64 (14.4.2-3ubuntu0.18.04.1) ...\n",
            "Selecting previously unselected package sox.\n",
            "Preparing to unpack .../7-sox_14.4.2-3ubuntu0.18.04.1_amd64.deb ...\n",
            "Unpacking sox (14.4.2-3ubuntu0.18.04.1) ...\n",
            "Setting up libmagic-mgc (1:5.32-2ubuntu0.3) ...\n",
            "Setting up libmagic1:amd64 (1:5.32-2ubuntu0.3) ...\n",
            "Setting up libopencore-amrnb0:amd64 (0.1.3-2.1) ...\n",
            "Setting up libopencore-amrwb0:amd64 (0.1.3-2.1) ...\n",
            "Setting up libsox3:amd64 (14.4.2-3ubuntu0.18.04.1) ...\n",
            "Setting up libsox-fmt-base:amd64 (14.4.2-3ubuntu0.18.04.1) ...\n",
            "Setting up libsox-fmt-alsa:amd64 (14.4.2-3ubuntu0.18.04.1) ...\n",
            "Setting up sox (14.4.2-3ubuntu0.18.04.1) ...\n",
            "Processing triggers for libc-bin (2.27-3ubuntu1) ...\n",
            "/sbin/ldconfig.real: /usr/local/lib/python3.6/dist-packages/ideep4py/lib/libmkldnn.so.0 is not a symbolic link\n",
            "\n",
            "Processing triggers for man-db (2.8.3-2ubuntu0.1) ...\n",
            "Processing triggers for mime-support (3.60ubuntu1) ...\n"
          ],
          "name": "stdout"
        }
      ]
    },
    {
      "cell_type": "markdown",
      "metadata": {
        "id": "NSafdItAiugX",
        "colab_type": "text"
      },
      "source": [
        "# script to download all audio files from the 'Best Of' section on: https://whoicf2.whoi.edu/science/B/whalesounds/index.cfm\n",
        "\n",
        "### *Notice: only run this script if you haven't already or if it was interrupted while running it previously. (It takes a lot of time).*"
      ]
    },
    {
      "cell_type": "code",
      "metadata": {
        "id": "RqpgbffKd87w",
        "colab_type": "code",
        "outputId": "7494119e-a2e1-4331-a84f-d0ad8c0b3645",
        "colab": {
          "base_uri": "https://localhost:8080/",
          "height": 34
        }
      },
      "source": [
        "# install the latest mechanize version\n",
        "!pip -q install mechanize"
      ],
      "execution_count": 5,
      "outputs": [
        {
          "output_type": "stream",
          "text": [
            "\u001b[?25l\r\u001b[K     |███                             | 10kB 29.7MB/s eta 0:00:01\r\u001b[K     |██████                          | 20kB 36.1MB/s eta 0:00:01\r\u001b[K     |█████████                       | 30kB 42.7MB/s eta 0:00:01\r\u001b[K     |████████████                    | 40kB 47.8MB/s eta 0:00:01\r\u001b[K     |███████████████                 | 51kB 40.9MB/s eta 0:00:01\r\u001b[K     |██████████████████              | 61kB 43.7MB/s eta 0:00:01\r\u001b[K     |█████████████████████           | 71kB 32.3MB/s eta 0:00:01\r\u001b[K     |████████████████████████        | 81kB 33.3MB/s eta 0:00:01\r\u001b[K     |███████████████████████████     | 92kB 35.4MB/s eta 0:00:01\r\u001b[K     |██████████████████████████████  | 102kB 34.1MB/s eta 0:00:01\r\u001b[K     |████████████████████████████████| 112kB 34.1MB/s \n",
            "\u001b[?25h"
          ],
          "name": "stdout"
        }
      ]
    },
    {
      "cell_type": "code",
      "metadata": {
        "id": "VxMyJdTumsIN",
        "colab_type": "code",
        "colab": {}
      },
      "source": [
        "#!/usr/bin/env python\n",
        "\n",
        "# download all audio files from the 'Best Of' section on:\n",
        "# https://whoicf2.whoi.edu/science/B/whalesounds/index.cfm\n",
        "\n",
        "\n",
        "import mechanize\n",
        "import re\n",
        "from time import sleep\n",
        "import os\n",
        "import pathlib\n",
        "\n",
        "URL = 'https://whoicf2.whoi.edu/science/B/whalesounds/index.cfm'\n",
        "DELAY = 0.5 \n",
        "\n",
        "class WatkinsScraper:\n",
        "    def __init__(self, url=URL, delay=DELAY):\n",
        "        # initilize browser, url, delay and items array\n",
        "        self.br = mechanize.Browser()\n",
        "        self.url = url\n",
        "        self.delay = delay\n",
        "        self.items = []\n",
        "        self.dl_links = []\n",
        "\n",
        "\n",
        "    def scrape(self):\n",
        "        '''\n",
        "        Get the list of items in the first dropdown menu, \"Common name\", \n",
        "        submit the form for each item. \n",
        "        Using the response, save the files to this script's \n",
        "        directory.\n",
        "        '''\n",
        "        self.get_items()\n",
        "\n",
        "        for item in self.items:\n",
        "            # Skip invalid/blank item selections\n",
        "            if \"https\" in str(item):\n",
        "                self.get_links(str(item))\n",
        "\n",
        "                label = ' '.join([label.text for label in item.get_labels()])\n",
        "\n",
        "                # remove non alphanumeric characters\n",
        "                label = re.sub('[^a-zA-Z]', '', label)\n",
        "\n",
        "\n",
        "                # make directory\n",
        "                if not os.path.exists(data_dir+\"/\"+label):\n",
        "                    os.makedirs(data_dir+\"/\"+label)\n",
        "\n",
        "                print(\"downloading %s...\" % label)\n",
        "                self.download_links(label)\n",
        "                print(\"%s finished downloading!\" % label)\n",
        "\n",
        "        \n",
        "    def get_items(self):\n",
        "        '''\n",
        "        Get the list of items in the first dropdown of the form.\n",
        "        '''\n",
        "        self.br.open(self.url)\n",
        "        self.br.select_form('jump1')\n",
        "\n",
        "        # get items from submit tag \n",
        "        self.items = self.br.form.find_control('getSpeciesCommon').get_items()\n",
        "\n",
        "\n",
        "    def get_links(self, parent_url):\n",
        "        '''\n",
        "        Locates the links on a given webpage.\n",
        "        '''\n",
        "        temp_br = mechanize.Browser()\n",
        "        temp_br.open(str(parent_url))\n",
        "\n",
        "        # filetypes holds the extensions of the files we want to download.\n",
        "        filetypes=[\".wav\"]\n",
        "        # iterate through links inside browser on the page.\n",
        "        for link in temp_br.links():\n",
        "            # check if this link has the file extension we want.\n",
        "            for ft in filetypes:\n",
        "                if ft in str(link):\n",
        "                    self.dl_links.append(link)\n",
        "\n",
        "\n",
        "    def download_links(self, label):\n",
        "        '''\n",
        "        Downloads all links stored in a scraper obj. dl_links array.\n",
        "        '''\n",
        "\n",
        "        temp_br = mechanize.Browser()\n",
        "        file_num = 0\n",
        "\n",
        "        for link in self.dl_links:\n",
        "            straight_url = re.sub('/science.*',link.url,link.base_url)\n",
        "            sleep(self.delay)\n",
        "            temp_br.retrieve(straight_url, \n",
        "                             data_dir+label+\"/\"+label+str(file_num)+\".wav\")\n",
        "            file_num+=1\n",
        "\n",
        "        # empty the links.\n",
        "        self.dl_links = []\n",
        "\n",
        "\n",
        "if __name__ == '__main__':\n",
        "    scraper = WatkinsScraper()\n",
        "    scraper.scrape()\n",
        "    print(\"all sound files have finished downloading!\")"
      ],
      "execution_count": 0,
      "outputs": []
    },
    {
      "cell_type": "markdown",
      "metadata": {
        "id": "xSqPimD7o9OO",
        "colab_type": "text"
      },
      "source": [
        "# python script that shortens all audio files to the length of the shortest file."
      ]
    },
    {
      "cell_type": "code",
      "metadata": {
        "id": "t3YVoKI8wNkn",
        "colab_type": "code",
        "outputId": "966460f6-77a7-4f39-cb62-4ec7f71d9b1e",
        "colab": {
          "base_uri": "https://localhost:8080/",
          "height": 129
        }
      },
      "source": [
        "#!/usr/bin/env python\n",
        "\n",
        "# locate the shortest audio file and shorten all longer files to that length.\n",
        "\n",
        "import wave\n",
        "import contextlib\n",
        "import re\n",
        "import os \n",
        "\n",
        "fname = '/tmp/test.wav'\n",
        "with contextlib.closing(wave.open(fname,'r')) as f:\n",
        "    frames = f.getnframes()\n",
        "    rate = f.getframerate()\n",
        "    duration = frames / float(rate)\n",
        "    print(duration)"
      ],
      "execution_count": 0,
      "outputs": [
        {
          "output_type": "error",
          "ename": "SyntaxError",
          "evalue": "ignored",
          "traceback": [
            "\u001b[0;36m  File \u001b[0;32m\"<ipython-input-28-ccdcab7352b2>\"\u001b[0;36m, line \u001b[0;32m2\u001b[0m\n\u001b[0;31m    for file in *.mp3\u001b[0m\n\u001b[0m                ^\u001b[0m\n\u001b[0;31mSyntaxError\u001b[0m\u001b[0;31m:\u001b[0m invalid syntax\n"
          ]
        }
      ]
    },
    {
      "cell_type": "code",
      "metadata": {
        "id": "a90nZqldw_mt",
        "colab_type": "code",
        "colab": {}
      },
      "source": [
        "!cd AtlanticSpottedDolphin/"
      ],
      "execution_count": 0,
      "outputs": []
    },
    {
      "cell_type": "code",
      "metadata": {
        "id": "RaQquYMSc0AK",
        "colab_type": "code",
        "colab": {}
      },
      "source": [
        "# convert the sound files to spectrogram images via SoX\n",
        "!sox AtlanticSpottedDolphin/AtlanticSpottedDolphin0.wav -n spectrogram -hmr -o print.png "
      ],
      "execution_count": 0,
      "outputs": []
    }
  ]
}