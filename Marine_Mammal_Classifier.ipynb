{
  "nbformat": 4,
  "nbformat_minor": 0,
  "metadata": {
    "colab": {
      "name": "Marine Mammal Classifier.ipynb",
      "provenance": [],
      "collapsed_sections": [
        "imRrk3Uan6Ew",
        "YaocxwumhnAn",
        "NSafdItAiugX",
        "ukUXDEZJ_3wp",
        "OJ39J4-ge48g",
        "AG2znSwyxFfp",
        "a3Tr0BR7WjD6",
        "lazsI-5Varqv",
        "8PvLGmB2bnOf",
        "CDuVlZxRcmtU",
        "wlFckuJZcsF-"
      ],
      "toc_visible": true,
      "authorship_tag": "ABX9TyMoupse8IiLX5tZtc/mD3zj",
      "include_colab_link": true
    },
    "kernelspec": {
      "name": "python3",
      "display_name": "Python 3"
    },
    "accelerator": "GPU"
  },
  "cells": [
    {
      "cell_type": "markdown",
      "metadata": {
        "id": "view-in-github",
        "colab_type": "text"
      },
      "source": [
        "<a href=\"https://colab.research.google.com/github/sedwardsmarsh/Marine-Mammal-Classifier/blob/master/Marine_Mammal_Classifier.ipynb\" target=\"_parent\"><img src=\"https://colab.research.google.com/assets/colab-badge.svg\" alt=\"Open In Colab\"/></a>"
      ]
    },
    {
      "cell_type": "markdown",
      "metadata": {
        "id": "-9pVArPXhRoy",
        "colab_type": "text"
      },
      "source": [
        "# **Marine Mammal Classifier,** *in six steps!*\n",
        "\n",
        "### Special thanks to:\n",
        "\n",
        "*   Source for audio data: Watkins Marine Mammal Sound Database, Woods Hole Oceanographic Institution: https://whoicf2.whoi.edu/science/B/whalesounds/index.cfm\n",
        "*   Thanks to Todd Hayton for the python tutorial *Scraping by Example - Iterating through Select Items With Mechanize*: http://toddhayton.com/2015/01/09/scraping-by-example-ntu-edu/\n",
        "*   This answer from stack exchange was helpful as well, thank you: https://stackoverflow.com/questions/5974595/download-all-the-linksrelated-documents-on-a-webpage-using-python\n",
        "*   This post convinced me to use librosa. Thank you for the great resource: https://medium.com/@etown/great-results-on-audio-classification-with-fastai-library-ccaf906c5f52\n",
        "\n",
        "\n",
        "\n"
      ]
    },
    {
      "cell_type": "markdown",
      "metadata": {
        "id": "imRrk3Uan6Ew",
        "colab_type": "text"
      },
      "source": [
        "# step 1. Configure Google Colab\n",
        "### *Before running anything, you need to tell Colab that you want to use a GPU.* \n",
        "1.   You can do this by clicking on the ‘Runtime’ tab and selecting ‘Change runtime type’. \n",
        "2.   A pop-up window will open up with a drop-down menu. Select ‘GPU’ from the menu and click ‘Save’.\n",
        "\n",
        "\n",
        "\n",
        "\n",
        "\n",
        "\n",
        "\n"
      ]
    },
    {
      "cell_type": "markdown",
      "metadata": {
        "id": "Jd7j9k2GnWE_",
        "colab_type": "text"
      },
      "source": [
        "<img src=\"https://course.fast.ai/images/colab/03.png\" alt=\"Click the 'Runtime' tab above and select 'Change runtime type'\" height=\"100%\" width=\"45%\">\n",
        "<img src=\"https://course.fast.ai/images/colab/04.png\" alt=\"A pop-up window will open up with a drop-down menu. Select ‘GPU’ from the menu and click ‘Save’.\" height=\"50%\" width=\"45%\">"
      ]
    },
    {
      "cell_type": "markdown",
      "metadata": {
        "id": "YaocxwumhnAn",
        "colab_type": "text"
      },
      "source": [
        "# step 2. Setup the environment"
      ]
    },
    {
      "cell_type": "code",
      "metadata": {
        "id": "65C_9YIGdmJZ",
        "colab_type": "code",
        "colab": {}
      },
      "source": [
        "# connect to google drive\n",
        "from google.colab import drive\n",
        "from pathlib import Path\n",
        "drive.mount('/content/gdrive', force_remount=True)\n",
        "root_dir = \"/content/gdrive/My Drive/\"\n",
        "data_dir = root_dir + \"Colab Notebooks/watkins_data/\"\n",
        "model_dir = root_dir + \"Colab Notebooks/mmc_model/\"\n",
        "bash_path = \"/content/gdrive/My\\ Drive/Colab\\ Notebooks/watkins_data/\"\n",
        "model_path = \"/content/gdrive/My\\ Drive/Colab\\ Notebooks/mmc_model\""
      ],
      "execution_count": 0,
      "outputs": []
    },
    {
      "cell_type": "code",
      "metadata": {
        "colab_type": "code",
        "id": "jVD14_Y68SDa",
        "colab": {}
      },
      "source": [
        "# create google drive directory to hold watkins marine mammal data\n",
        "%mkdir {bash_path}\n",
        "%mkdir {model_path}"
      ],
      "execution_count": 0,
      "outputs": []
    },
    {
      "cell_type": "code",
      "metadata": {
        "id": "E51ZlZC0hg6M",
        "colab_type": "code",
        "colab": {}
      },
      "source": [
        "# fetch the latest fast.ai version \n",
        "!curl -s https://course.fast.ai/setup/colab | bash"
      ],
      "execution_count": 0,
      "outputs": []
    },
    {
      "cell_type": "code",
      "metadata": {
        "id": "1lxV6gqGhsq2",
        "colab_type": "code",
        "colab": {}
      },
      "source": [
        "# install the latest versions of SoX and ffmpeg \n",
        "# !apt-get -qq install sox ffmpeg"
      ],
      "execution_count": 0,
      "outputs": []
    },
    {
      "cell_type": "markdown",
      "metadata": {
        "id": "NSafdItAiugX",
        "colab_type": "text"
      },
      "source": [
        "# step 3. Download the data, *see Notice* \n",
        "\n",
        "### **Notice**: only run this script if you have not already done so, or if it was interrupted while running previously. ***Unfortunately, it takes a lot of time.***\n",
        "\n",
        "##### script data source: https://whoicf2.whoi.edu/science/B/whalesounds/index.cfm"
      ]
    },
    {
      "cell_type": "code",
      "metadata": {
        "id": "RqpgbffKd87w",
        "colab_type": "code",
        "colab": {}
      },
      "source": [
        "# install the latest mechanize version\n",
        "!pip -q install mechanize"
      ],
      "execution_count": 0,
      "outputs": []
    },
    {
      "cell_type": "code",
      "metadata": {
        "id": "VxMyJdTumsIN",
        "colab_type": "code",
        "colab": {}
      },
      "source": [
        "#!/usr/bin/env python\n",
        "\n",
        "# download all audio files from the 'Best Of' section on:\n",
        "# https://whoicf2.whoi.edu/science/B/whalesounds/index.cfm\n",
        "\n",
        "\n",
        "import mechanize\n",
        "import re\n",
        "from time import sleep\n",
        "import os\n",
        "import pathlib\n",
        "\n",
        "URL = 'https://whoicf2.whoi.edu/science/B/whalesounds/index.cfm'\n",
        "DELAY = 0.5 \n",
        "\n",
        "class WatkinsScraper:\n",
        "    def __init__(self, url=URL, delay=DELAY):\n",
        "        # initilize browser, url, delay and items array\n",
        "        self.br = mechanize.Browser()\n",
        "        self.url = url\n",
        "        self.delay = delay\n",
        "        self.items = []\n",
        "        self.dl_links = []\n",
        "\n",
        "\n",
        "    def scrape(self):\n",
        "        '''\n",
        "        Get the list of items in the first dropdown menu, \"Common name\", \n",
        "        submit the form for each item. \n",
        "        Using the response, save the files to this script's \n",
        "        directory.\n",
        "        '''\n",
        "        self.get_items()\n",
        "\n",
        "        for item in self.items:\n",
        "            # Skip invalid/blank item selections\n",
        "            if \"https\" in str(item):\n",
        "                self.get_links(str(item))\n",
        "\n",
        "                label = ' '.join([label.text for label in item.get_labels()])\n",
        "\n",
        "                # remove non alphanumeric characters\n",
        "                label = re.sub('[^a-zA-Z]', '', label)\n",
        "\n",
        "\n",
        "                # make directory\n",
        "                if not os.path.exists(data_dir+\"/\"+label):\n",
        "                    os.makedirs(data_dir+\"/\"+label)\n",
        "\n",
        "                print(\"downloading %s...\" % label)\n",
        "                self.download_links(label)\n",
        "                print(\"%s finished downloading!\" % label)\n",
        "\n",
        "        \n",
        "    def get_items(self):\n",
        "        '''\n",
        "        Get the list of items in the first dropdown of the form.\n",
        "        '''\n",
        "        self.br.open(self.url)\n",
        "        self.br.select_form('jump1')\n",
        "\n",
        "        # get items from submit tag \n",
        "        self.items = self.br.form.find_control('getSpeciesCommon').get_items()\n",
        "\n",
        "\n",
        "    def get_links(self, parent_url):\n",
        "        '''\n",
        "        Locates the links on a given webpage.\n",
        "        '''\n",
        "        temp_br = mechanize.Browser()\n",
        "        temp_br.open(str(parent_url))\n",
        "\n",
        "        # filetypes holds the extensions of the files we want to download.\n",
        "        filetypes=[\".wav\"]\n",
        "        # iterate through links inside browser on the page.\n",
        "        for link in temp_br.links():\n",
        "            # check if this link has the file extension we want.\n",
        "            for ft in filetypes:\n",
        "                if ft in str(link):\n",
        "                    self.dl_links.append(link)\n",
        "\n",
        "\n",
        "    def download_links(self, label):\n",
        "        '''\n",
        "        Downloads all links stored in a scraper obj. dl_links array.\n",
        "        '''\n",
        "\n",
        "        temp_br = mechanize.Browser()\n",
        "        file_num = 0\n",
        "\n",
        "        for link in self.dl_links:\n",
        "            straight_url = re.sub('/science.*',link.url,link.base_url)\n",
        "            sleep(self.delay)\n",
        "            temp_br.retrieve(straight_url, \n",
        "                             data_dir+label+\"/\"+label+str(file_num)+\".wav\")\n",
        "            file_num+=1\n",
        "\n",
        "        # empty the links.\n",
        "        self.dl_links = []\n",
        "\n",
        "\n",
        "if __name__ == '__main__':\n",
        "    scraper = WatkinsScraper()\n",
        "    scraper.scrape()\n",
        "    print(\"all sound files have finished downloading!\")"
      ],
      "execution_count": 0,
      "outputs": []
    },
    {
      "cell_type": "markdown",
      "metadata": {
        "colab_type": "text",
        "id": "ukUXDEZJ_3wp"
      },
      "source": [
        "# step 4. Convert all sound files to square spectrogram images, *see Notice*\n",
        "\n",
        "### **Notice:** only run this script if you have not already done so, or if it was interrupted while running previously. **Unfortunately, it takes a lot of time.**"
      ]
    },
    {
      "cell_type": "code",
      "metadata": {
        "colab_type": "code",
        "id": "2kNCbcjr_3wv",
        "colab": {}
      },
      "source": [
        "#!/usr/bin/env python\n",
        "\n",
        "# convert all .wav files into square spectrogram images.\n",
        "\n",
        "import os\n",
        "\n",
        "def search():\n",
        "\n",
        "    for folder in os.listdir(data_dir):\n",
        "        # print(\"folder: %s\" % data_dir+folder)\n",
        "        for audio_file in os.listdir(data_dir+folder):\n",
        "            # print(\"filename: %s\" % filename)\n",
        "            if audio_file.endswith('.wav'):\n",
        "                temp_dir = data_dir+folder+\"/\"+audio_file\n",
        "                # print(temp_dir)\n",
        "                samples, sample_rate = librosa.load(temp_dir)\n",
        "                fig = plt.figure(figsize=[0.72,0.72])\n",
        "                ax = fig.add_subplot(111)\n",
        "                ax.axes.get_xaxis().set_visible(False)\n",
        "                ax.axes.get_yaxis().set_visible(False)\n",
        "                ax.set_frame_on(False)\n",
        "                #filename  = spectrogram_path/fold/Path(audio_file).name.replace('.wav','.png')\n",
        "                filename = temp_dir.replace('.wav','.png')\n",
        "                # plot mel-spectrogram\n",
        "                S = librosa.feature.melspectrogram(y=samples, sr=sample_rate)\n",
        "                librosa.display.specshow(librosa.power_to_db(S, ref=np.max))\n",
        "                plt.savefig(filename, dpi=400, bbox_inches='tight',pad_inches=0)\n",
        "                plt.close('all')\n",
        "        print(\"finished converting folder: %s\" % data_dir+folder)\n",
        "    print(\"finished converting all audio files to spectrograms!\")\n",
        "\n",
        "\n",
        "if __name__ == '__main__':\n",
        "    # test_dir = os.path.join(data_dir+\"\")\n",
        "    # print(data_dir)\n",
        "    \n",
        "    #filename  = spectrogram_path/fold/Path(audio_file).name.replace('.wav','.png')\n",
        "    # os.system(\"sox {test_dir} -X 513 -y 513 -n spectrogram -hmr -o print.png -d 0:03\")\n",
        "    search()"
      ],
      "execution_count": 0,
      "outputs": []
    },
    {
      "cell_type": "markdown",
      "metadata": {
        "id": "OJ39J4-ge48g",
        "colab_type": "text"
      },
      "source": [
        "# step 5. Make & view the dataset"
      ]
    },
    {
      "cell_type": "code",
      "metadata": {
        "id": "L7Guc_m_V_BI",
        "colab_type": "code",
        "colab": {}
      },
      "source": [
        "from fastai.vision import *\n",
        "batch_size = 64\n",
        "data = ImageDataBunch.from_folder(path=data_dir, train=\".\", valid_pct=0.02, ds_tfms=[], size=244, bs=batch_size)\n",
        "# data.split_by_rand_pct(valid_pct=0.2, seed=42)"
      ],
      "execution_count": 0,
      "outputs": []
    },
    {
      "cell_type": "code",
      "metadata": {
        "id": "35jmWTB9dRQz",
        "colab_type": "code",
        "colab": {}
      },
      "source": [
        "# view a random selection of 9 elements in the dataset.\n",
        "data.show_batch(rows=3, figsize=(10,10))"
      ],
      "execution_count": 0,
      "outputs": []
    },
    {
      "cell_type": "markdown",
      "metadata": {
        "id": "AG2znSwyxFfp",
        "colab_type": "text"
      },
      "source": [
        "# step 6. Train the network"
      ]
    },
    {
      "cell_type": "code",
      "metadata": {
        "id": "kSVhleRKe-7r",
        "colab_type": "code",
        "colab": {}
      },
      "source": [
        "# create the learner and train the network\n",
        "learn = cnn_learner(data, models.resnet34, metrics=accuracy)"
      ],
      "execution_count": 0,
      "outputs": []
    },
    {
      "cell_type": "markdown",
      "metadata": {
        "id": "a3Tr0BR7WjD6",
        "colab_type": "text"
      },
      "source": [
        "## **Notice:** If you previously trained the network and saved it, run the cell in \"part a\" and then skip to \"part d\""
      ]
    },
    {
      "cell_type": "markdown",
      "metadata": {
        "id": "lazsI-5Varqv",
        "colab_type": "text"
      },
      "source": [
        "###part a. "
      ]
    },
    {
      "cell_type": "code",
      "metadata": {
        "id": "S6Cioy66cohN",
        "colab_type": "code",
        "colab": {}
      },
      "source": [
        "# run this cell if the model was previously ran and saved, ignore otherwise.\n",
        "learn.load(model_dir+\"stage-1\")"
      ],
      "execution_count": 0,
      "outputs": []
    },
    {
      "cell_type": "markdown",
      "metadata": {
        "id": "8PvLGmB2bnOf",
        "colab_type": "text"
      },
      "source": [
        "### part b. *actually* train the network"
      ]
    },
    {
      "cell_type": "code",
      "metadata": {
        "id": "6okciI99pCp2",
        "colab_type": "code",
        "colab": {}
      },
      "source": [
        "# train the network for 4 cycles\n",
        "learn.fit_one_cycle(4)"
      ],
      "execution_count": 0,
      "outputs": []
    },
    {
      "cell_type": "code",
      "metadata": {
        "id": "Nmniq50PqJbo",
        "colab_type": "code",
        "colab": {}
      },
      "source": [
        "# model is saved!\n",
        "learn.save(model_dir+\"stage-1\")\n",
        "learn.unfreeze()"
      ],
      "execution_count": 0,
      "outputs": []
    },
    {
      "cell_type": "markdown",
      "metadata": {
        "id": "CDuVlZxRcmtU",
        "colab_type": "text"
      },
      "source": [
        "### part c. tune the network"
      ]
    },
    {
      "cell_type": "code",
      "metadata": {
        "id": "FDarAB73r89l",
        "colab_type": "code",
        "colab": {}
      },
      "source": [
        "learn.lr_find()"
      ],
      "execution_count": 0,
      "outputs": []
    },
    {
      "cell_type": "code",
      "metadata": {
        "id": "rTgU1oZ7sOPk",
        "colab_type": "code",
        "colab": {}
      },
      "source": [
        "learn.recorder.plot()"
      ],
      "execution_count": 0,
      "outputs": []
    },
    {
      "cell_type": "code",
      "metadata": {
        "id": "N5qJaS6xsTVE",
        "colab_type": "code",
        "colab": {}
      },
      "source": [
        "learn.fit_one_cycle(2, max_lr=slice(1e-3,1e-2))"
      ],
      "execution_count": 0,
      "outputs": []
    },
    {
      "cell_type": "markdown",
      "metadata": {
        "id": "wlFckuJZcsF-",
        "colab_type": "text"
      },
      "source": [
        "### part d. view the network"
      ]
    },
    {
      "cell_type": "code",
      "metadata": {
        "id": "yEep62zMs1y3",
        "colab_type": "code",
        "colab": {}
      },
      "source": [
        "interp = ClassificationInterpretation.from_learner(learn)"
      ],
      "execution_count": 0,
      "outputs": []
    },
    {
      "cell_type": "code",
      "metadata": {
        "id": "EXcOOdBFt3K0",
        "colab_type": "code",
        "colab": {}
      },
      "source": [
        "interp.plot_top_losses(9, figsize=(18,18))"
      ],
      "execution_count": 0,
      "outputs": []
    },
    {
      "cell_type": "code",
      "metadata": {
        "id": "iLnXsxr8tGEF",
        "colab_type": "code",
        "colab": {}
      },
      "source": [
        "interp.plot_confusion_matrix(figsize=(10,10))"
      ],
      "execution_count": 0,
      "outputs": []
    },
    {
      "cell_type": "markdown",
      "metadata": {
        "id": "Hd2SsV8wXI3E",
        "colab_type": "text"
      },
      "source": [
        "# Congratulations, you've trained a neural network to classify the sounds of Marine Mammals using fast.ai!"
      ]
    },
    {
      "cell_type": "markdown",
      "metadata": {
        "id": "GxNbcy6WV45S",
        "colab_type": "text"
      },
      "source": [
        "# *Thanks for checking out my project.* \n",
        "## *If you have any ideas on how to improve the data cleaning/mapping process, or if you know of larger marine mammal datasets, please let me know and open an issue on this repository!*"
      ]
    }
  ]
}